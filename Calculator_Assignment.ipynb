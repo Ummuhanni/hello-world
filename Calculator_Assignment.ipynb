{
  "nbformat": 4,
  "nbformat_minor": 0,
  "metadata": {
    "colab": {
      "name": "Calculator Assignment.ipynb",
      "provenance": [],
      "collapsed_sections": [],
      "authorship_tag": "ABX9TyPInPyYRgGc8JEjZldgWecZ",
      "include_colab_link": true
    },
    "kernelspec": {
      "name": "python3",
      "display_name": "Python 3"
    },
    "language_info": {
      "name": "python"
    }
  },
  "cells": [
    {
      "cell_type": "markdown",
      "metadata": {
        "id": "view-in-github",
        "colab_type": "text"
      },
      "source": [
        "<a href=\"https://colab.research.google.com/github/Ummuhanni/hello-world/blob/main/Calculator_Assignment.ipynb\" target=\"_parent\"><img src=\"https://colab.research.google.com/assets/colab-badge.svg\" alt=\"Open In Colab\"/></a>"
      ]
    },
    {
      "cell_type": "markdown",
      "metadata": {
        "id": "HAYUFB_BL9W8"
      },
      "source": [
        "## AJANI UMMU-HANNI - HOW TO MAKE A CALCULATOR"
      ]
    },
    {
      "cell_type": "code",
      "metadata": {
        "colab": {
          "base_uri": "https://localhost:8080/"
        },
        "id": "pU4O8kFgMTM5",
        "outputId": "9436eeda-81f8-421f-bea2-4ec495294854"
      },
      "source": [
        "number_1 = int(input('Enter your first number: '))\n",
        "number_2 = int(input('Enter your second number: '))\n",
        "\n",
        "# Addition\n",
        "print('{} + {} = '.format(number_1, number_2))\n",
        "print(number_1 + number_2)\n",
        "\n",
        "# Subtraction\n",
        "print('{} - {} = '.format(number_1, number_2))\n",
        "print(number_1 - number_2)\n",
        "\n",
        "# Multiplication\n",
        "print('{} * {} = '.format(number_1, number_2))\n",
        "print(number_1 * number_2)\n",
        "\n",
        "# Division\n",
        "print('{} / {} = '.format(number_1, number_2))\n",
        "print(number_1 / number_2)"
      ],
      "execution_count": 3,
      "outputs": [
        {
          "output_type": "stream",
          "text": [
            "Enter your first number: 30\n",
            "Enter your second number: 50\n",
            "30 + 50 = \n",
            "80\n",
            "30 - 50 = \n",
            "-20\n",
            "30 * 50 = \n",
            "1500\n",
            "30 / 50 = \n",
            "0.6\n"
          ],
          "name": "stdout"
        }
      ]
    }
  ]
}